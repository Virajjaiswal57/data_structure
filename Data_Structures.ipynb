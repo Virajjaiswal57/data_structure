{
 "cells": [
  {
   "cell_type": "code",
   "execution_count": null,
   "id": "8f6ef089-cd2b-469b-bcc3-cdd2ffddbeba",
   "metadata": {},
   "outputs": [],
   "source": [
    "# 1. Write a code to reverse a string\n",
    "\n",
    "# Code\n",
    "\n",
    "\n"
   ]
  },
  {
   "cell_type": "code",
   "execution_count": null,
   "id": "a297b124-1a54-4cd5-b3c5-304c7bb1bd36",
   "metadata": {},
   "outputs": [],
   "source": [
    "# 2. Write a code to cound the number of vowels in a string\n",
    "\n"
   ]
  },
  {
   "cell_type": "code",
   "execution_count": null,
   "id": "a35d85c4-753f-4c4a-a198-d0cf1a8cc7b8",
   "metadata": {},
   "outputs": [],
   "source": [
    "# 3. Write a code to check if a given string is a palindrome or not\n",
    "\n"
   ]
  },
  {
   "cell_type": "code",
   "execution_count": null,
   "id": "d887b9cd-4443-44bd-94be-aaa0945c2009",
   "metadata": {},
   "outputs": [],
   "source": [
    "# 4. Write a code to check if two given strings are anagrams of each other\n"
   ]
  },
  {
   "cell_type": "code",
   "execution_count": null,
   "id": "f705bd7d-476c-47f6-9a83-262fa8b9cd0e",
   "metadata": {},
   "outputs": [],
   "source": [
    "# 5. Write a code to find all occurrences of a given substring within another string."
   ]
  }
 ],
 "metadata": {
  "kernelspec": {
   "display_name": "Python 3 (ipykernel)",
   "language": "python",
   "name": "python3"
  },
  "language_info": {
   "codemirror_mode": {
    "name": "ipython",
    "version": 3
   },
   "file_extension": ".py",
   "mimetype": "text/x-python",
   "name": "python",
   "nbconvert_exporter": "python",
   "pygments_lexer": "ipython3",
   "version": "3.10.8"
  }
 },
 "nbformat": 4,
 "nbformat_minor": 5
}
