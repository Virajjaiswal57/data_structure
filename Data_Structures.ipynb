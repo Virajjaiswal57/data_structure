{
 "cells": [
  {
   "cell_type": "code",
   "execution_count": null,
   "id": "f6b1236b-c8f1-46ea-bfd7-79e42e4100d2",
   "metadata": {},
   "outputs": [
    {
     "data": {
      "text/plain": [
       "'sllikswp'"
      ]
     },
     "execution_count": 55,
     "metadata": {},
     "output_type": "execute_result"
    }
   ],
   "source": [
    "# 1. Write a code to reverse a string.\n",
    "\n",
    "a = \"pwskills\"\n",
    "a[::-1]"
   ]
  },
  {
   "cell_type": "code",
   "execution_count": 30,
   "id": "d425b5c5-9181-4b40-acff-2d11f16392c2",
   "metadata": {},
   "outputs": [
    {
     "name": "stdin",
     "output_type": "stream",
     "text": [
      "Enter the sentence:  vriaj\n"
     ]
    },
    {
     "name": "stdout",
     "output_type": "stream",
     "text": [
      "1\n",
      "2\n"
     ]
    }
   ],
   "source": [
    "# 2. Write a code to count the number of vowels in a string.\n",
    "\n",
    "sentence = input(\"Enter the sentence: \")\n",
    "set_lower = sentence.lower()\n",
    "count = 0\n",
    "l = ['a', 'e', 'i', 'o', 'u']\n",
    "for char in set_lower:\n",
    "    if char in l:\n",
    "        count = count+1\n",
    "        print(count)\n",
    "\n",
    "        "
   ]
  },
  {
   "cell_type": "code",
   "execution_count": 35,
   "id": "1c27b7c1-3ed6-46fa-86a9-602e51ab3551",
   "metadata": {},
   "outputs": [
    {
     "name": "stdin",
     "output_type": "stream",
     "text": [
      "Enter the sentence -> mama\n"
     ]
    },
    {
     "name": "stdout",
     "output_type": "stream",
     "text": [
      "Not Palindrome String\n"
     ]
    }
   ],
   "source": [
    "# 3. Write a code to check if a given string is a palindrome or not.\n",
    "\n",
    "\n",
    "a = input(\"Enter the sentence ->\")\n",
    "\n",
    "b = a[::-1]\n",
    "if(b==a):\n",
    "    print(\"Palindrome String\")\n",
    "else:\n",
    "    print(\"Not Palindrome String\") "
   ]
  },
  {
   "cell_type": "code",
   "execution_count": 34,
   "id": "025703f8-8da9-4683-8ab8-0c74f97ebb32",
   "metadata": {},
   "outputs": [
    {
     "name": "stdin",
     "output_type": "stream",
     "text": [
      "Enter the first value   -> night\n",
      "Enter the secound value -> thing\n"
     ]
    },
    {
     "name": "stdout",
     "output_type": "stream",
     "text": [
      "Anagrams\n"
     ]
    }
   ],
   "source": [
    "# 4. Write a code to check if two given strings are anagrams of each other.\n",
    "\n",
    "word1 = input(\"Enter the first value   ->\")\n",
    "word2 = input(\"Enter the secound value ->\")\n",
    "if(sorted(word1) == sorted(word2)):\n",
    "    print(\"Anagrams\")\n",
    "else:\n",
    "    print(\"Not Anagrams\")\n"
   ]
  },
  {
   "cell_type": "code",
   "execution_count": 47,
   "id": "2958afb4-1e23-4b04-808c-44672452138c",
   "metadata": {},
   "outputs": [
    {
     "name": "stdin",
     "output_type": "stream",
     "text": [
      "Enter a String :  pwskill is great plateform for learner\n",
      "Enter a Substring :  form\n"
     ]
    },
    {
     "name": "stdout",
     "output_type": "stream",
     "text": [
      "Substring occurs 1 times \n"
     ]
    }
   ],
   "source": [
    "# 5. Write a code to find all occurrences of a given substring within another string.\n",
    "\n",
    "my_string = input(\"Enter a String : \")\n",
    "my_substring = input(\"Enter a Substring : \")\n",
    "\n",
    "my_count = my_string.count(my_substring)\n",
    "\n",
    "print(\"Substring occurs %d times \" % my_count)\n"
   ]
  },
  {
   "cell_type": "code",
   "execution_count": 7,
   "id": "cbdac424-ebd4-442a-a797-7c649ede2716",
   "metadata": {},
   "outputs": [
    {
     "name": "stdin",
     "output_type": "stream",
     "text": [
      "Enter the string value:  aabbbvvvvzzz\n"
     ]
    },
    {
     "name": "stdout",
     "output_type": "stream",
     "text": [
      "2a3b4v3z\n"
     ]
    }
   ],
   "source": [
    "# 6. Write a code to perform basic string compression using the counts of repeated characters.\n",
    "\n",
    "strval = input(\"Enter the string value: \")\n",
    "ch = strval[0]\n",
    "result = \"\"\n",
    "count = 0\n",
    "strval = strval + \" \"\n",
    "for x in strval:\n",
    "    \n",
    "    if x == ch:\n",
    "        count += 1\n",
    "    else:\n",
    "        result = result + str(count) + str(ch)\n",
    "        ch = x\n",
    "        count = 1\n",
    "print(result)"
   ]
  },
  {
   "cell_type": "code",
   "execution_count": 30,
   "id": "da0b97dc-7114-4311-a024-493dca003758",
   "metadata": {},
   "outputs": [
    {
     "name": "stdin",
     "output_type": "stream",
     "text": [
      "Enter the character:  mango\n"
     ]
    },
    {
     "name": "stdout",
     "output_type": "stream",
     "text": [
      "All unique character\n"
     ]
    }
   ],
   "source": [
    "# 7. Write a code to determine if a string has all unique characters.\n",
    "\n",
    "a = input(\"Enter the character: \")\n",
    "\n",
    "def check_unique(string):\n",
    "    unique_characters = []\n",
    "    \n",
    "    for character in string:\n",
    "        if character in unique_characters:\n",
    "            return False\n",
    "        else:\n",
    "            unique_characters.append(character)\n",
    "            \n",
    "    return 'All unique character'\n",
    "\n",
    "print(check_unique(a))"
   ]
  },
  {
   "cell_type": "code",
   "execution_count": 40,
   "id": "bf3da3db-9ef0-4e5d-9839-752925e1ceb4",
   "metadata": {},
   "outputs": [],
   "source": [
    "# 8. Write a code to convert a given string to uppercase or lowercase.\n",
    "\n",
    "str1 =  \"PwSkills\""
   ]
  },
  {
   "cell_type": "code",
   "execution_count": 41,
   "id": "fdde25a5-16ec-498a-9e23-9b7dfefa5c0e",
   "metadata": {},
   "outputs": [
    {
     "data": {
      "text/plain": [
       "'PWSKILLS'"
      ]
     },
     "execution_count": 41,
     "metadata": {},
     "output_type": "execute_result"
    }
   ],
   "source": [
    "str1.upper()"
   ]
  },
  {
   "cell_type": "code",
   "execution_count": 42,
   "id": "8c7f709e-3dac-44ec-9313-30926f8ee449",
   "metadata": {},
   "outputs": [
    {
     "data": {
      "text/plain": [
       "'pwskills'"
      ]
     },
     "execution_count": 42,
     "metadata": {},
     "output_type": "execute_result"
    }
   ],
   "source": [
    "str1.lower()"
   ]
  },
  {
   "cell_type": "code",
   "execution_count": 46,
   "id": "903d2d98-418a-459b-babd-e09ab1824c7d",
   "metadata": {},
   "outputs": [
    {
     "name": "stdin",
     "output_type": "stream",
     "text": [
      "enter a string:  dsfan sadf a\n"
     ]
    },
    {
     "name": "stdout",
     "output_type": "stream",
     "text": [
      "3\n"
     ]
    }
   ],
   "source": [
    "# 9.  Write a code to count the number of words in a string.\n",
    "\n",
    "a = input(\"enter a string: \")\n",
    "str_list = a.split()\n",
    "print(len(str_list))"
   ]
  },
  {
   "cell_type": "code",
   "execution_count": 34,
   "id": "1f430b89-ecca-4088-ab2f-411d21c7cd3e",
   "metadata": {},
   "outputs": [
    {
     "name": "stdout",
     "output_type": "stream",
     "text": [
      "Hello World\n"
     ]
    }
   ],
   "source": [
    "# 10.  Write a code to concatenate two strings without using the + operator.\n",
    "\n",
    "str1 = \"Hello\"\n",
    "str2 = \"World\"\n",
    "\n",
    "result = ' '.join([str1, str2])\n",
    "print(result)"
   ]
  },
  {
   "cell_type": "code",
   "execution_count": 52,
   "id": "9276d8fb-bcc9-4b87-8b48-b1a508bfe4cd",
   "metadata": {},
   "outputs": [
    {
     "name": "stdout",
     "output_type": "stream",
     "text": [
      "1\n",
      "3\n",
      "4\n",
      "5\n",
      "6\n"
     ]
    }
   ],
   "source": [
    "# 11. Write a code to remove all occurrences of a specific element from a list.\n",
    "\n",
    "my_list = [1, 2, 3, 4, 2, 5, 2, 6]\n",
    "element_to_remove = 2\n",
    "result = []\n",
    "for element in my_list:\n",
    "    if element != element_to_remove:\n",
    "        print(element)"
   ]
  },
  {
   "cell_type": "code",
   "execution_count": 8,
   "id": "8bfc48da-aa40-4efa-a09c-7bef37bdbef0",
   "metadata": {},
   "outputs": [
    {
     "name": "stdin",
     "output_type": "stream",
     "text": [
      "Enter the total no of element you want inside your list:  5\n",
      "Enter the element:  8\n",
      "Enter the element:  15\n",
      "Enter the element:  81\n",
      "Enter the element:  54\n",
      "Enter the element:  1\n"
     ]
    },
    {
     "name": "stdout",
     "output_type": "stream",
     "text": [
      "My list  [8, 15, 81, 54, 1]\n",
      "Sorted list:  [1, 8, 15, 54, 81]\n",
      "Secound largest Element  54\n"
     ]
    }
   ],
   "source": [
    "# 12.  Implement a code to find the second largest number in a given list of integers.\n",
    "\n",
    "numbers = int(input(\"Enter the total no of element you want inside your list: \"))\n",
    "l = []\n",
    "for i in range(numbers):\n",
    "    elem = int(input(\"Enter the element: \"))\n",
    "    l.append(elem)\n",
    "print(\"My list \", l)\n",
    "\n",
    "sorted_list = l.sort()\n",
    "print(\"Sorted list: \", l)\n",
    "\n",
    "secound_largest = l[-2]\n",
    "print(\"Secound largest Element \", secound_largest)"
   ]
  },
  {
   "cell_type": "code",
   "execution_count": 4,
   "id": "b78f279c-d33a-4abb-8a99-6e98ea6edfa2",
   "metadata": {},
   "outputs": [
    {
     "name": "stdout",
     "output_type": "stream",
     "text": [
      "{1: 1, 2: 2, 3: 3, 4: 3, 5: 1}\n"
     ]
    }
   ],
   "source": [
    "# 13.  Create a code to count the occurrences of each element in a list and return a dictionary with elements as keys and their counts as values.\n",
    "\n",
    "def count_elements(lst):\n",
    "    counts = {}\n",
    "    for element in lst:\n",
    "        if element in counts:\n",
    "            counts[element] += 1\n",
    "        else:\n",
    "            counts[element] = 1\n",
    "    return counts\n",
    "\n",
    "# example\n",
    "my_list = [1, 2, 2, 3, 3, 3, 4, 4, 5, 4]\n",
    "result = count_elements(my_list)\n",
    "print(result)"
   ]
  },
  {
   "cell_type": "code",
   "execution_count": 6,
   "id": "eb44cf56-3166-4b90-8049-69258e7ac445",
   "metadata": {},
   "outputs": [
    {
     "data": {
      "text/plain": [
       "['Anjay', 'Sanjay', ' Bijay', 'Ajay']"
      ]
     },
     "execution_count": 6,
     "metadata": {},
     "output_type": "execute_result"
    }
   ],
   "source": [
    "# 14.  Write a code to reverse a list in-place without using any built-in reverse functions.\n",
    "\n",
    "lis = [\"Ajay\", \" Bijay\", \"Sanjay\", \"Anjay\"]\n",
    "lis[::-1]"
   ]
  },
  {
   "cell_type": "code",
   "execution_count": 7,
   "id": "eff67d8e-9691-497f-a183-1324ae7b26f2",
   "metadata": {},
   "outputs": [
    {
     "name": "stdout",
     "output_type": "stream",
     "text": [
      "[1, 2, 4, 6, 3, 8, 7, 89, 9, 56]\n"
     ]
    }
   ],
   "source": [
    "# 15. Implement a code to find and remove duplicates from a list while preserving the original order of elements.\n",
    "\n",
    "list1 = [1, 2, 4, 6, 3, 6, 8, 4, 7, 4, 89, 7, 9, 56]\n",
    "\n",
    "result = []\n",
    "for i in list1:\n",
    "    if i not in result:\n",
    "        result.append(i)\n",
    "        \n",
    "print(result)"
   ]
  },
  {
   "cell_type": "code",
   "execution_count": 10,
   "id": "3a9a9303-4a38-4ac5-830f-8346d3f6f491",
   "metadata": {},
   "outputs": [
    {
     "name": "stdin",
     "output_type": "stream",
     "text": [
      "Enter a list :  [1, 9, 6, 12, 3]\n"
     ]
    },
    {
     "name": "stdout",
     "output_type": "stream",
     "text": [
      "Original list :  [1, 9, 6, 12, 3]\n",
      "Sorted in ascending order :  [1, 3, 6, 9, 12]\n",
      "Sorted in descending order :  [12, 9, 6, 3, 1]\n"
     ]
    }
   ],
   "source": [
    "# 16.  Create a code to check if a given list is sorted (either in ascending or descending order) or not.\n",
    "\n",
    "val = eval(input(\"Enter a list : \"))\n",
    "\n",
    "print(\"Original list : \", val)\n",
    "\n",
    "val.sort()\n",
    "print(\"Sorted in ascending order : \", val)\n",
    "\n",
    "val.sort(reverse = True)\n",
    "print(\"Sorted in descending order : \", val)"
   ]
  },
  {
   "cell_type": "code",
   "execution_count": 24,
   "id": "67a88f74-7a68-467a-a76f-2215aa40731e",
   "metadata": {},
   "outputs": [
    {
     "name": "stdout",
     "output_type": "stream",
     "text": [
      "[1, 2, 3, 4, 5, 6, 7, 8, 9, 10]\n"
     ]
    }
   ],
   "source": [
    "# 17. Write a code to merge two sorted lists into a single sorted list.\n",
    "\n",
    "import heapq\n",
    "lst1 = [1, 3, 5, 7, 9]\n",
    "lst2 = [2, 4, 6, 8, 10]\n",
    "result = list(heapq.merge(lst1, lst2))\n",
    "print(result)"
   ]
  },
  {
   "cell_type": "code",
   "execution_count": 13,
   "id": "a7753959-e894-4796-84b9-ae839bc0bd20",
   "metadata": {},
   "outputs": [
    {
     "name": "stdout",
     "output_type": "stream",
     "text": [
      "Common Elements:  [5, 9]\n"
     ]
    }
   ],
   "source": [
    "# 18.  Implement a code to find the intersection of two given lists.\n",
    "\n",
    "list1 = [1, 2, 5, 8, 9]\n",
    "list2 = [3, 6, 5, 9, 12, 15]\n",
    "result = []\n",
    "\n",
    "for i in list1:\n",
    "    for j in list2:\n",
    "        if i == j:\n",
    "            result.append(i)\n",
    "            \n",
    "print(\"Common Elements: \", result)"
   ]
  },
  {
   "cell_type": "code",
   "execution_count": 7,
   "id": "44fc753d-72b7-4320-b439-ff04a12c650e",
   "metadata": {},
   "outputs": [
    {
     "name": "stdin",
     "output_type": "stream",
     "text": [
      "Enter a first list :  [1, 5, 8, 7, 5, 3, 2]\n",
      "Enter a secound list:  [5, 7, 12, 8, 1, 9]\n"
     ]
    },
    {
     "name": "stdout",
     "output_type": "stream",
     "text": [
      "[1, 5, 7, 8, 3, 2, 12, 9]\n"
     ]
    }
   ],
   "source": [
    "# 19.  Create a code to find the union of two lists without duplicates.\n",
    "\n",
    "\n",
    "import heapq\n",
    "lst1 = eval(input(\"Enter a first list : \"))\n",
    "lst2 = eval(input(\"Enter a secound list: \"))\n",
    "combine = list(heapq.merge(lst1, lst2))\n",
    "result = []\n",
    "for i in combine:\n",
    "    if i not in result:\n",
    "        result.append(i)\n",
    "        \n",
    "print(result)"
   ]
  },
  {
   "cell_type": "code",
   "execution_count": 13,
   "id": "85f6f6de-0bf7-4050-b98e-7aef121153d1",
   "metadata": {},
   "outputs": [
    {
     "name": "stdout",
     "output_type": "stream",
     "text": [
      "[6, 3, 1, 4, 2, 5]\n"
     ]
    }
   ],
   "source": [
    "# 20.  Write a code to shuffle a given list randomly without using any built-in shuffle functions.\n",
    "\n",
    "from random import randint\n",
    "\n",
    "def shuffle_array(arr):\n",
    "    n = len(arr)\n",
    "    \n",
    "    for i in range(n):\n",
    "        rand = randint(i, n-1)\n",
    "        arr[i], arr[rand] = arr[rand], arr[i]\n",
    "        \n",
    "    return arr\n",
    "print(shuffle_array([1, 2, 3, 4, 5, 6]))"
   ]
  },
  {
   "cell_type": "code",
   "execution_count": 5,
   "id": "b685b08c-873b-4366-81fa-fac72c0c27e8",
   "metadata": {},
   "outputs": [
    {
     "name": "stdin",
     "output_type": "stream",
     "text": [
      "Enter the first touples:  (1, 8, 3, 7, 6)\n",
      "Enter the secound touples:  (4, 8, 9, 3)\n"
     ]
    },
    {
     "name": "stdout",
     "output_type": "stream",
     "text": [
      "(8, 3)\n"
     ]
    }
   ],
   "source": [
    "# 21. Write a code that takes two tuples as input and returns a new tuple containing elements that are common to both input tuples.\n",
    "\n",
    "tuple1 = eval(input(\"Enter the first touples: \"))\n",
    "tuple2 = eval(input(\"Enter the secound touples: \"))\n",
    "\n",
    "def common_elements(tuple1, tuple2):\n",
    "    # Convert tuples to sets to find common elements\n",
    "    set1 = set(tuple1)\n",
    "    set2 = set(tuple2)\n",
    "    \n",
    "    # Find intersection of two sets\n",
    "    common_set = set1.intersection(set2)\n",
    "    \n",
    "    # Convert the set back to a tuple\n",
    "    common_tuple = tuple(common_set)\n",
    "    \n",
    "    return common_tuple\n",
    "\n",
    "\n",
    "\n",
    "result = common_elements(tuple1, tuple2)\n",
    "print(result) "
   ]
  },
  {
   "cell_type": "code",
   "execution_count": 6,
   "id": "f32e8478-ca47-408c-88ae-892ced1b4623",
   "metadata": {},
   "outputs": [
    {
     "name": "stdin",
     "output_type": "stream",
     "text": [
      "Enter integers for set 1 separated by commas:  5, 6, 9, 2, 8\n",
      "Enter integers for set 2 separated by commas:  2, 1, 12, 6, 7\n"
     ]
    },
    {
     "name": "stdout",
     "output_type": "stream",
     "text": [
      "Intersection of set 1 and set 2: {2, 6}\n"
     ]
    }
   ],
   "source": [
    "# 22.  Create a code that prompts the user to enter two sets of integers separated by commas. Then, print the intersection of these two sets.\n",
    "\n",
    "def main():\n",
    "    set1_input = input(\"Enter integers for set 1 separated by commas: \")\n",
    "    set2_input = input(\"Enter integers for set 2 separated by commas: \")\n",
    "\n",
    "    set1 = set(map(int, set1_input.split(',')))\n",
    "    set2 = set(map(int, set2_input.split(',')))\n",
    "\n",
    "    intersection = set1 & set2\n",
    "\n",
    "    print(\"Intersection of set 1 and set 2:\", intersection)\n",
    "    \n",
    "main()"
   ]
  },
  {
   "cell_type": "code",
   "execution_count": 12,
   "id": "3ccdb41f-0147-4a0f-a0fa-1fd985804baf",
   "metadata": {},
   "outputs": [
    {
     "name": "stdout",
     "output_type": "stream",
     "text": [
      "Concatenated tuple: (1, 2, 3, 4, 5, 6)\n"
     ]
    }
   ],
   "source": [
    "# 23.  Write a code to concatenate two tuples. The function should take two tuples as input and return a new tuple containing elements from both input tuples.\n",
    "\n",
    "\n",
    "def concatenate_tuples(tuple1, tuple2):\n",
    "    \n",
    "    list1 = list(tuple1)\n",
    "    list2 = list(tuple2)\n",
    "    \n",
    "    concatenated_list = list1 + list2\n",
    "    \n",
    "    concatenated_tuple = tuple(concatenated_list)\n",
    "    \n",
    "    return concatenated_tuple\n",
    "\n",
    "tuple1 = (1, 2, 3)\n",
    "tuple2 = (4, 5, 6)\n",
    "\n",
    "concatenated_tuple = concatenate_tuples(tuple1, tuple2)\n",
    "print(\"Concatenated tuple:\", concatenated_tuple)\n"
   ]
  },
  {
   "cell_type": "code",
   "execution_count": 14,
   "id": "ba299bb4-97de-4e8c-b02c-947d4143cfda",
   "metadata": {},
   "outputs": [
    {
     "name": "stdin",
     "output_type": "stream",
     "text": [
      "Enter strings for set 1 separated by commas:  4, 5, 6\n",
      "Enter strings for set 2 separated by commas:  3, 4\n"
     ]
    },
    {
     "name": "stdout",
     "output_type": "stream",
     "text": [
      "Elements in set 1 but not in set 2: {'5', '6'}\n"
     ]
    }
   ],
   "source": [
    "# 24. Develop a code that prompts the user to input two sets of strings. Then, print the elements that are present in the first set but not in the second set.\n",
    "\n",
    "def main():\n",
    "    \n",
    "    set1_input = input(\"Enter strings for set 1 separated by commas: \")\n",
    "    set2_input = input(\"Enter strings for set 2 separated by commas: \")\n",
    "\n",
    "    set1 = set(map(str.strip, set1_input.split(',')))\n",
    "    set2 = set(map(str.strip, set2_input.split(',')))\n",
    "\n",
    "    # Find elements present in set1 but not in set2\n",
    "    difference_set = set1 - set2\n",
    "\n",
    "    print(\"Elements in set 1 but not in set 2:\", difference_set)\n",
    "\n",
    "main()\n"
   ]
  },
  {
   "cell_type": "code",
   "execution_count": 15,
   "id": "062efbe2-c5ed-4e71-8495-dc87585b27ce",
   "metadata": {},
   "outputs": [
    {
     "name": "stdout",
     "output_type": "stream",
     "text": [
      "Sliced tuple: (2, 3, 4)\n"
     ]
    }
   ],
   "source": [
    "# 25.Create a code that takes a tuple and two integers as input. The function should return a new tuple containing elements from the original tuple within the specified range of indices.\n",
    "\n",
    "def slice_tuple(input_tuple, start_index, end_index):\n",
    "    \n",
    "    if start_index < 0 or end_index > len(input_tuple) or start_index >= end_index:\n",
    "        raise ValueError(\"Indices are out of bounds or invalid\")\n",
    "\n",
    "    sliced_tuple = input_tuple[start_index:end_index]\n",
    "\n",
    "    return tuple(sliced_tuple)\n",
    "\n",
    "# Example usage:\n",
    "original_tuple = (1, 2, 3, 4, 5)\n",
    "start_index = 1\n",
    "end_index = 4\n",
    "\n",
    "result_tuple = slice_tuple(original_tuple, start_index, end_index)\n",
    "print(\"Sliced tuple:\", result_tuple)\n"
   ]
  },
  {
   "cell_type": "code",
   "execution_count": 27,
   "id": "18d87820-d06c-48d9-8299-c0cef4ecd395",
   "metadata": {},
   "outputs": [
    {
     "name": "stdin",
     "output_type": "stream",
     "text": [
      "Enter characters for set 1 separated by commas:  banana, orange, grapes\n",
      "Enter characters for set 2 separated by commas:  mango, apple\n"
     ]
    },
    {
     "name": "stdout",
     "output_type": "stream",
     "text": [
      "Union of set 1 and set 2: {' grapes', ' orange', 'banana', ' apple', 'mango'}\n"
     ]
    }
   ],
   "source": [
    "# 26.  Write a code that prompts the user to input two sets of characters. Then, print the union of these two sets.\n",
    "     \n",
    "\n",
    "def main():\n",
    "    set1_input = input(\"Enter characters for set 1 separated by commas: \")\n",
    "    set2_input = input(\"Enter characters for set 2 separated by commas: \")\n",
    "\n",
    "    set1 = set(set1_input.split(','))\n",
    "    set2 = set(set2_input.split(','))\n",
    "\n",
    "    union_set = set1.union(set2)\n",
    "\n",
    "    print(\"Union of set 1 and set 2:\", union_set)\n",
    "\n",
    "main()\n"
   ]
  },
  {
   "cell_type": "code",
   "execution_count": 30,
   "id": "fc48ed0a-bff3-4f98-a028-1b4b996a1062",
   "metadata": {},
   "outputs": [
    {
     "name": "stdin",
     "output_type": "stream",
     "text": [
      "Enter the touples:  (5, 8, 32, 26, 74, 15, 7)\n"
     ]
    },
    {
     "name": "stdout",
     "output_type": "stream",
     "text": [
      "Maximum value: 74\n",
      "Minimum value: 5\n"
     ]
    }
   ],
   "source": [
    "# 27  Develop a code that takes a tuple of integers as input. The function should return the maximum and minimum values from the tuple using tuple unpacking.\n",
    "\n",
    "def find_max_min(input_tuple):\n",
    "    \n",
    "    if not input_tuple:\n",
    "        raise ValueError(\"Input tuple cannot be empty\")\n",
    "\n",
    "    max_value = max(input_tuple)\n",
    "    min_value = min(input_tuple)\n",
    "\n",
    "    return max_value, min_value\n",
    "\n",
    "input_tuple = eval(input(\"Enter the touples: \"))\n",
    "max_value, min_value = find_max_min(input_tuple)\n",
    "print(\"Maximum value:\", max_value)\n",
    "print(\"Minimum value:\", min_value)\n"
   ]
  },
  {
   "cell_type": "code",
   "execution_count": 32,
   "id": "a6f884e3-81ad-4d89-9ddb-21d1ca75dd38",
   "metadata": {},
   "outputs": [
    {
     "name": "stdin",
     "output_type": "stream",
     "text": [
      "Enter integers for set 1 separated by commas:  5, 6, 15, 12, 9, 32, 24, 19\n",
      "Enter integers for set 2 separated by commas:  6, 15, 32, 23, 9, 8, 26\n"
     ]
    },
    {
     "name": "stdout",
     "output_type": "stream",
     "text": [
      "Intersection of set 1 and set 2: {32, 9, 6, 15}\n",
      "Union of set 1 and set 2: {32, 5, 6, 8, 9, 12, 15, 19, 23, 24, 26}\n",
      "difference of set1 - set2:  {24, 19, 12, 5}\n"
     ]
    }
   ],
   "source": [
    "# 28. Create a code that defines two sets of integers. Then, print the union, intersection, and difference of these two sets.\n",
    "\n",
    "\n",
    "def main():\n",
    "    set1_input = input(\"Enter integers for set 1 separated by commas: \")\n",
    "    set2_input = input(\"Enter integers for set 2 separated by commas: \")\n",
    "\n",
    "    set1 = set(map(int, set1_input.split(',')))\n",
    "    set2 = set(map(int, set2_input.split(',')))\n",
    "\n",
    "    intersection = set1 & set2\n",
    "    union_set = set1.union(set2)\n",
    "    difference_set = set1 - set2\n",
    "\n",
    "    print(\"Intersection of set 1 and set 2:\", intersection)\n",
    "\n",
    "    print(\"Union of set 1 and set 2:\", union_set)\n",
    "    \n",
    "    print(\"difference of set1 - set2: \", difference_set)\n",
    "    \n",
    "    \n",
    "main()"
   ]
  },
  {
   "cell_type": "code",
   "execution_count": 35,
   "id": "c138f930-8e8c-4b48-80f1-36f586a677ed",
   "metadata": {},
   "outputs": [
    {
     "name": "stdin",
     "output_type": "stream",
     "text": [
      "Enter the touples:  (4, 5, 8, 4, 6, 5, 4, 2, 6, 4, 7, 12, 4)\n"
     ]
    },
    {
     "name": "stdout",
     "output_type": "stream",
     "text": [
      "Number of occurrences of 4 in the tuple: 5\n"
     ]
    }
   ],
   "source": [
    "# 29. Write a code that takes a tuple and an element as input. The function should return the count of occurrences of the given element in the tuple.\n",
    "\n",
    "def count_occurrences(input_tuple, element):\n",
    "    \n",
    "    count = input_tuple.count(element)\n",
    "    return count\n",
    "\n",
    "input_tuple = eval(input(\"Enter the touples: \"))\n",
    "element_to_count = 4\n",
    "\n",
    "occurrences = count_occurrences(input_tuple, element_to_count)\n",
    "print(f\"Number of occurrences of {element_to_count} in the tuple: {occurrences}\")"
   ]
  },
  {
   "cell_type": "code",
   "execution_count": 37,
   "id": "e51ea3dc-f2f9-4f17-a426-9fa027467747",
   "metadata": {},
   "outputs": [
    {
     "name": "stdin",
     "output_type": "stream",
     "text": [
      "Enter the first set of strings, separated by spaces:  ramesh, suresh, shyam, ram, sanjay\n",
      "Enter the second set of strings, separated by spaces:  suresh, ram, pinku, tinku\n"
     ]
    },
    {
     "name": "stdout",
     "output_type": "stream",
     "text": [
      "The symmetric difference between the two sets is:\n",
      "{'pinku,', 'sanjay', 'ramesh,', 'shyam,', 'tinku'}\n"
     ]
    }
   ],
   "source": [
    "# 30. Develop a code that prompts the user to input two sets of strings. Then, print the symmetric difference of these two sets.\n",
    "\n",
    "set1_input = input(\"Enter the first set of strings, separated by spaces: \")\n",
    "set2_input = input(\"Enter the second set of strings, separated by spaces: \")\n",
    "\n",
    "set1 = set(set1_input.split())\n",
    "set2 = set(set2_input.split())\n",
    "\n",
    "symmetric_difference = set1.symmetric_difference(set2)\n",
    "\n",
    "print(\"The symmetric difference between the two sets is:\")\n",
    "print(symmetric_difference)\n"
   ]
  },
  {
   "cell_type": "code",
   "execution_count": 43,
   "id": "5fd5376d-6b11-4023-9413-8f5fb4428404",
   "metadata": {},
   "outputs": [
    {
     "name": "stdin",
     "output_type": "stream",
     "text": [
      "Enter a list of words separated by spaces:  ram shyam pinki shyam tikki dhiraj tikki shyam dhiraj\n"
     ]
    },
    {
     "name": "stdout",
     "output_type": "stream",
     "text": [
      "Word frequencies: {'ram': 1, 'shyam': 3, 'pinki': 1, 'tikki': 2, 'dhiraj': 2}\n"
     ]
    }
   ],
   "source": [
    "# 31. Write a code that takes a list of words as input and returns a dictionary where the keys are unique words and the values are the frequencies of those words in the input list.\n",
    "\n",
    "def word_frequencies(word_list):\n",
    "    frequency_dict = {}\n",
    "    \n",
    "    for word in word_list:\n",
    "        if word in frequency_dict:\n",
    "            frequency_dict[word] += 1\n",
    "        else:\n",
    "            frequency_dict[word] = 1\n",
    "    \n",
    "    return frequency_dict\n",
    "\n",
    "input_words = input(\"Enter a list of words separated by spaces: \").split()\n",
    "word_freqs = word_frequencies(input_words)\n",
    "\n",
    "print(\"Word frequencies:\", word_freqs)\n"
   ]
  },
  {
   "cell_type": "code",
   "execution_count": 1,
   "id": "4fa7b535-16a1-43ee-9033-03a6cece234d",
   "metadata": {},
   "outputs": [
    {
     "name": "stdout",
     "output_type": "stream",
     "text": [
      "{'a': 10, 'b': 25, 'c': 45, 'd': 25}\n"
     ]
    }
   ],
   "source": [
    "# 32. Write a code that takes two dictionaries as input and merges them into a single dictionary. If there are common keys, the values should be added together.  \n",
    "\n",
    "def merge_dicts(dict1, dict2):\n",
    "    merged_dict = dict1.copy()  \n",
    "\n",
    "    for key, value in dict2.items():\n",
    "        if key in merged_dict:\n",
    "            merged_dict[key] += value  \n",
    "        else:\n",
    "            merged_dict[key] = value  \n",
    "\n",
    "    return merged_dict\n",
    "\n",
    "# Example \n",
    "dict1 = {'a': 10, 'b': 20, 'c': 30}\n",
    "dict2 = {'b': 5, 'c': 15, 'd': 25}\n",
    "\n",
    "result = merge_dicts(dict1, dict2)\n",
    "print(result) \n"
   ]
  },
  {
   "cell_type": "code",
   "execution_count": 2,
   "id": "147d4af5-cc96-45c7-85d6-2d905b2cc0e2",
   "metadata": {},
   "outputs": [
    {
     "name": "stdout",
     "output_type": "stream",
     "text": [
      "42\n",
      "200\n",
      "None\n"
     ]
    }
   ],
   "source": [
    "# 33. Write a code to access a value in a nested dictionary. The function should take the dictionary and a list of keys as input, and return the corresponding value. If any of the keys do not exist in the dictionary, the function should return None.\n",
    "\n",
    "def get_nested_value(nested_dict, key_list):\n",
    "    current_dict = nested_dict\n",
    "\n",
    "    for key in key_list:\n",
    "        if isinstance(current_dict, dict) and key in current_dict:\n",
    "            current_dict = current_dict[key]\n",
    "        else:\n",
    "            return None\n",
    "    \n",
    "    return current_dict\n",
    "\n",
    "# Example \n",
    "nested_dict = {\n",
    "    'a': {\n",
    "        'b': {\n",
    "            'c': 42,\n",
    "            'd': 100\n",
    "        },\n",
    "        'e': {\n",
    "            'f': 200\n",
    "        }\n",
    "    }\n",
    "}\n",
    "\n",
    "keys = ['a', 'b', 'c']\n",
    "result = get_nested_value(nested_dict, keys)\n",
    "print(result) \n",
    "\n",
    "keys = ['a', 'e', 'f']\n",
    "result = get_nested_value(nested_dict, keys)\n",
    "print(result) \n",
    "\n",
    "keys = ['a', 'b', 'x']\n",
    "result = get_nested_value(nested_dict, keys)\n",
    "print(result)  \n"
   ]
  },
  {
   "cell_type": "code",
   "execution_count": 11,
   "id": "c3f5a28c-e7a6-41ce-bb24-dc15127e731d",
   "metadata": {},
   "outputs": [
    {
     "name": "stdout",
     "output_type": "stream",
     "text": [
      "{'b': 5, 'a': 10, 'd': 20, 'c': 30}\n",
      "{'c': 30, 'd': 20, 'a': 10, 'b': 5}\n"
     ]
    }
   ],
   "source": [
    "# 34. Write a code that takes a dictionary as input and returns a sorted version of it based on the values. You can choose whether to sort in ascending or descending order.\n",
    "\n",
    "def sort_dict_by_values(input_dict, descending=False):\n",
    "    sorted_dict = dict(sorted(input_dict.items(), key=lambda item: item[1], reverse=descending))\n",
    "    return sorted_dict\n",
    "\n",
    "example_dict = {'a': 10, 'b': 5, 'c': 30, 'd': 20}\n",
    "\n",
    "#ascending order\n",
    "ascending_sorted_dict = sort_dict_by_values(example_dict)\n",
    "print(ascending_sorted_dict) \n",
    "\n",
    "#descending order\n",
    "descending_sorted_dict = sort_dict_by_values(example_dict, descending=True)\n",
    "print(descending_sorted_dict)  "
   ]
  },
  {
   "cell_type": "code",
   "execution_count": 12,
   "id": "8eda5aa3-bd27-4c43-bb3d-432ef84df260",
   "metadata": {},
   "outputs": [
    {
     "name": "stdout",
     "output_type": "stream",
     "text": [
      "{1: ['a', 'c'], 2: ['b'], 3: ['d']}\n"
     ]
    }
   ],
   "source": [
    "# 35. Write a code that inverts a dictionary, swapping keys and values. Ensure that the inverted dictionary correctly handles cases where multiple keys have the same value by storing the keys as a list in the inverted dictionary.\n",
    "\n",
    "def invert_dict(input_dict):\n",
    "    inverted_dict = {}\n",
    "\n",
    "    for key, value in input_dict.items():\n",
    "        if value in inverted_dict:\n",
    "            inverted_dict[value].append(key)\n",
    "        else:\n",
    "            inverted_dict[value] = [key]\n",
    "\n",
    "    return inverted_dict\n",
    "\n",
    "# Example usage:\n",
    "example_dict = {'a': 1, 'b': 2, 'c': 1, 'd': 3}\n",
    "\n",
    "inverted_dict = invert_dict(example_dict)\n",
    "print(inverted_dict) \n"
   ]
  },
  {
   "cell_type": "code",
   "execution_count": null,
   "id": "8cb1b42c-fbac-4222-a144-e4d7ba8771ab",
   "metadata": {},
   "outputs": [],
   "source": []
  }
 ],
 "metadata": {
  "kernelspec": {
   "display_name": "Python 3 (ipykernel)",
   "language": "python",
   "name": "python3"
  },
  "language_info": {
   "codemirror_mode": {
    "name": "ipython",
    "version": 3
   },
   "file_extension": ".py",
   "mimetype": "text/x-python",
   "name": "python",
   "nbconvert_exporter": "python",
   "pygments_lexer": "ipython3",
   "version": "3.10.8"
  }
 },
 "nbformat": 4,
 "nbformat_minor": 5
}
